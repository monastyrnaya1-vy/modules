{
 "cells": [
  {
   "cell_type": "code",
   "execution_count": null,
   "metadata": {},
   "outputs": [],
   "source": [
    "import json\n",
    "\n",
    "f = open('purchase_log.txt', 'r', encoding = 'utf-8')\n",
    "content = f.readlines()\n",
    "\n",
    "for i in content:\n",
    "    d = json.loads(i)\n",
    "    val = list(d.values())\n",
    "    dict_new = dict(user_id = val[0], category = val[1])\n",
    "    "
   ]
  },
  {
   "cell_type": "code",
   "execution_count": null,
   "metadata": {},
   "outputs": [],
   "source": [
    "r = open('visit_log.csv', 'r')\n",
    "w = open('visit_log3.csv', 'w')\n",
    "funnel = open('funnel.csv', 'w')\n",
    "i = 0 \n",
    "for line in f:\n",
    "    line = line.strip('\\n')\n",
    "    user_id = line.split(',')[0]\n",
    "    category_name = purchases.get(user_id)\n",
    "    if i == 0:\n",
    "        line += ',category\\n'\n",
    "        w.write(line)\n",
    "        i += 1\n",
    "    else:\n",
    "        line += ',' + str(category_name)+'\\n'\n",
    "        w.write(line)\n",
    "        if category_name != None:\n",
    "            funnel.write(line)"
   ]
  },
  {
   "cell_type": "code",
   "execution_count": null,
   "metadata": {},
   "outputs": [],
   "source": [
    "r.close()\n",
    "w.close()\n",
    "funnel.close()"
   ]
  }
 ],
 "metadata": {
  "kernelspec": {
   "display_name": "Python 3",
   "language": "python",
   "name": "python3"
  },
  "language_info": {
   "codemirror_mode": {
    "name": "ipython",
    "version": 3
   },
   "file_extension": ".py",
   "mimetype": "text/x-python",
   "name": "python",
   "nbconvert_exporter": "python",
   "pygments_lexer": "ipython3",
   "version": "3.7.4"
  }
 },
 "nbformat": 4,
 "nbformat_minor": 2
}
